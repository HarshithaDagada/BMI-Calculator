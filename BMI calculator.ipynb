{
 "cells": [
  {
   "cell_type": "code",
   "execution_count": 1,
   "id": "6e6bc43f",
   "metadata": {},
   "outputs": [
    {
     "name": "stdout",
     "output_type": "stream",
     "text": [
      "Whats your height5.3\n",
      "Whats you weight55\n",
      "Underweight\n"
     ]
    }
   ],
   "source": [
    "Height=float(input('Whats your height'))\n",
    "Weight=float(input('Whats you weight'))\n",
    "\n",
    "BMI = Height/Weight ** 2\n",
    "\n",
    "if BMI<18.5:\n",
    " print(\"Underweight\") \n",
    "elif BMI>=30:\n",
    " print(\"Obesity\")\n",
    "elif BMI>=18 and BMI<25: \n",
    " print(\"Normal\") \n",
    "elif BMI<=25 and BMI<30:\n",
    " print(\"Overweight\")"
   ]
  },
  {
   "cell_type": "code",
   "execution_count": 2,
   "id": "bd51787d",
   "metadata": {},
   "outputs": [
    {
     "name": "stdout",
     "output_type": "stream",
     "text": [
      "Whats your height5.4\n",
      "Whats you weight41\n",
      "Underweight\n"
     ]
    }
   ],
   "source": [
    "Height=float(input('Whats your height'))\n",
    "Weight=float(input('Whats you weight'))\n",
    "\n",
    "BMI = Height/Weight ** 2\n",
    "\n",
    "if BMI<18.5:\n",
    " print(\"Underweight\") \n",
    "elif BMI>=30:\n",
    " print(\"Obesity\")\n",
    "elif BMI>=18 and BMI<25: \n",
    " print(\"Normal\") \n",
    "elif BMI<=25 and BMI<30:\n",
    " print(\"Overweight\")"
   ]
  },
  {
   "cell_type": "code",
   "execution_count": null,
   "id": "0c192841",
   "metadata": {},
   "outputs": [],
   "source": []
  }
 ],
 "metadata": {
  "kernelspec": {
   "display_name": "Python 3 (ipykernel)",
   "language": "python",
   "name": "python3"
  },
  "language_info": {
   "codemirror_mode": {
    "name": "ipython",
    "version": 3
   },
   "file_extension": ".py",
   "mimetype": "text/x-python",
   "name": "python",
   "nbconvert_exporter": "python",
   "pygments_lexer": "ipython3",
   "version": "3.11.4"
  }
 },
 "nbformat": 4,
 "nbformat_minor": 5
}
